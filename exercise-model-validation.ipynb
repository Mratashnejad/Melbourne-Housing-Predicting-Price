{
 "cells": [
  {
   "cell_type": "markdown",
   "id": "80337b98",
   "metadata": {
    "papermill": {
     "duration": 0.006308,
     "end_time": "2023-05-15T20:05:22.289723",
     "exception": false,
     "start_time": "2023-05-15T20:05:22.283415",
     "status": "completed"
    },
    "tags": []
   },
   "source": [
    "**This notebook is an exercise in the [Introduction to Machine Learning](https://www.kaggle.com/learn/intro-to-machine-learning) course.  You can reference the tutorial at [this link](https://www.kaggle.com/dansbecker/model-validation).**\n",
    "\n",
    "---\n"
   ]
  },
  {
   "cell_type": "markdown",
   "id": "22e0b2f5",
   "metadata": {
    "papermill": {
     "duration": 0.005213,
     "end_time": "2023-05-15T20:05:22.300942",
     "exception": false,
     "start_time": "2023-05-15T20:05:22.295729",
     "status": "completed"
    },
    "tags": []
   },
   "source": [
    "## Recap\n",
    "You've built a model. In this exercise you will test how good your model is.\n",
    "\n",
    "Run the cell below to set up your coding environment where the previous exercise left off."
   ]
  },
  {
   "cell_type": "code",
   "execution_count": 1,
   "id": "9aab2af4",
   "metadata": {
    "execution": {
     "iopub.execute_input": "2023-05-15T20:05:22.315315Z",
     "iopub.status.busy": "2023-05-15T20:05:22.314282Z",
     "iopub.status.idle": "2023-05-15T20:05:24.290396Z",
     "shell.execute_reply": "2023-05-15T20:05:24.289119Z"
    },
    "papermill": {
     "duration": 1.986937,
     "end_time": "2023-05-15T20:05:24.293539",
     "exception": false,
     "start_time": "2023-05-15T20:05:22.306602",
     "status": "completed"
    },
    "tags": []
   },
   "outputs": [
    {
     "name": "stderr",
     "output_type": "stream",
     "text": [
      "/opt/conda/lib/python3.10/site-packages/scipy/__init__.py:146: UserWarning: A NumPy version >=1.16.5 and <1.23.0 is required for this version of SciPy (detected version 1.23.5\n",
      "  warnings.warn(f\"A NumPy version >={np_minversion} and <{np_maxversion}\"\n"
     ]
    },
    {
     "name": "stdout",
     "output_type": "stream",
     "text": [
      "First in-sample predictions: [208500. 181500. 223500. 140000. 250000.]\n",
      "Actual target values for those homes: [208500, 181500, 223500, 140000, 250000]\n",
      "Setup Complete\n"
     ]
    }
   ],
   "source": [
    "# Code you have previously used to load data\n",
    "import pandas as pd\n",
    "from sklearn.tree import DecisionTreeRegressor\n",
    "\n",
    "# Path of the file to read\n",
    "iowa_file_path = '../input/home-data-for-ml-course/train.csv'\n",
    "\n",
    "home_data = pd.read_csv(iowa_file_path)\n",
    "y = home_data.SalePrice\n",
    "feature_columns = ['LotArea', 'YearBuilt', '1stFlrSF', '2ndFlrSF', 'FullBath', 'BedroomAbvGr', 'TotRmsAbvGrd']\n",
    "X = home_data[feature_columns]\n",
    "\n",
    "# Specify Model\n",
    "iowa_model = DecisionTreeRegressor()\n",
    "# Fit Model\n",
    "iowa_model.fit(X, y)\n",
    "\n",
    "print(\"First in-sample predictions:\", iowa_model.predict(X.head()))\n",
    "print(\"Actual target values for those homes:\", y.head().tolist())\n",
    "\n",
    "# Set up code checking\n",
    "from learntools.core import binder\n",
    "binder.bind(globals())\n",
    "from learntools.machine_learning.ex4 import *\n",
    "print(\"Setup Complete\")"
   ]
  },
  {
   "cell_type": "markdown",
   "id": "d15e81bd",
   "metadata": {
    "papermill": {
     "duration": 0.00668,
     "end_time": "2023-05-15T20:05:24.306250",
     "exception": false,
     "start_time": "2023-05-15T20:05:24.299570",
     "status": "completed"
    },
    "tags": []
   },
   "source": [
    "# Exercises\n",
    "\n",
    "## Step 1: Split Your Data\n",
    "Use the `train_test_split` function to split up your data.\n",
    "\n",
    "Give it the argument `random_state=1` so the `check` functions know what to expect when verifying your code.\n",
    "\n",
    "Recall, your features are loaded in the DataFrame **X** and your target is loaded in **y**.\n"
   ]
  },
  {
   "cell_type": "code",
   "execution_count": 2,
   "id": "50921d9f",
   "metadata": {
    "execution": {
     "iopub.execute_input": "2023-05-15T20:05:24.322570Z",
     "iopub.status.busy": "2023-05-15T20:05:24.321760Z",
     "iopub.status.idle": "2023-05-15T20:05:24.333401Z",
     "shell.execute_reply": "2023-05-15T20:05:24.332074Z"
    },
    "papermill": {
     "duration": 0.022925,
     "end_time": "2023-05-15T20:05:24.336070",
     "exception": false,
     "start_time": "2023-05-15T20:05:24.313145",
     "status": "completed"
    },
    "tags": []
   },
   "outputs": [
    {
     "data": {
      "application/javascript": [
       "parent.postMessage({\"jupyterEvent\": \"custom.exercise_interaction\", \"data\": {\"outcomeType\": 2, \"failureMessage\": \"You still need to define the following variables: `val_y`, `train_y`, `val_X`, `train_X`\", \"interactionType\": 1, \"questionType\": 2, \"questionId\": \"1_SplitData\", \"learnToolsVersion\": \"0.3.4\", \"valueTowardsCompletion\": 0.0, \"exceptionClass\": \"\", \"trace\": \"\"}}, \"*\")"
      ],
      "text/plain": [
       "<IPython.core.display.Javascript object>"
      ]
     },
     "metadata": {},
     "output_type": "display_data"
    },
    {
     "data": {
      "text/markdown": [
       "<span style=\"color:#cc3333\">Incorrect:</span> You still need to define the following variables: `val_y`, `train_y`, `val_X`, `train_X`"
      ],
      "text/plain": [
       "Incorrect: You still need to define the following variables: `val_y`, `train_y`, `val_X`, `train_X`"
      ]
     },
     "metadata": {},
     "output_type": "display_data"
    }
   ],
   "source": [
    "# Import the train_test_split function and uncomment\n",
    "# from _ import _\n",
    "\n",
    "# fill in and uncomment\n",
    "# train_X, val_X, train_y, val_y = ____\n",
    "\n",
    "# Check your answer\n",
    "step_1.check()"
   ]
  },
  {
   "cell_type": "code",
   "execution_count": 3,
   "id": "238386cc",
   "metadata": {
    "execution": {
     "iopub.execute_input": "2023-05-15T20:05:24.351427Z",
     "iopub.status.busy": "2023-05-15T20:05:24.350547Z",
     "iopub.status.idle": "2023-05-15T20:05:24.355752Z",
     "shell.execute_reply": "2023-05-15T20:05:24.354724Z"
    },
    "papermill": {
     "duration": 0.01576,
     "end_time": "2023-05-15T20:05:24.358275",
     "exception": false,
     "start_time": "2023-05-15T20:05:24.342515",
     "status": "completed"
    },
    "tags": []
   },
   "outputs": [],
   "source": [
    "# The lines below will show you a hint or the solution.\n",
    "# step_1.hint() \n",
    "# step_1.solution()\n"
   ]
  },
  {
   "cell_type": "markdown",
   "id": "1836664d",
   "metadata": {
    "papermill": {
     "duration": 0.005992,
     "end_time": "2023-05-15T20:05:24.370765",
     "exception": false,
     "start_time": "2023-05-15T20:05:24.364773",
     "status": "completed"
    },
    "tags": []
   },
   "source": [
    "## Step 2: Specify and Fit the Model\n",
    "\n",
    "Create a `DecisionTreeRegressor` model and fit it to the relevant data.\n",
    "Set `random_state` to 1 again when creating the model."
   ]
  },
  {
   "cell_type": "code",
   "execution_count": 4,
   "id": "5cad690f",
   "metadata": {
    "execution": {
     "iopub.execute_input": "2023-05-15T20:05:24.385917Z",
     "iopub.status.busy": "2023-05-15T20:05:24.385059Z",
     "iopub.status.idle": "2023-05-15T20:05:24.396070Z",
     "shell.execute_reply": "2023-05-15T20:05:24.394362Z"
    },
    "papermill": {
     "duration": 0.021481,
     "end_time": "2023-05-15T20:05:24.398672",
     "exception": false,
     "start_time": "2023-05-15T20:05:24.377191",
     "status": "completed"
    },
    "tags": []
   },
   "outputs": [
    {
     "data": {
      "application/javascript": [
       "parent.postMessage({\"jupyterEvent\": \"custom.exercise_interaction\", \"data\": {\"outcomeType\": 2, \"failureMessage\": \"You still need to define the following variables: `val_X`, `train_X`, `train_y`\", \"interactionType\": 1, \"questionType\": 2, \"questionId\": \"2_FitModelWithTrain\", \"learnToolsVersion\": \"0.3.4\", \"valueTowardsCompletion\": 0.0, \"exceptionClass\": \"\", \"trace\": \"\"}}, \"*\")"
      ],
      "text/plain": [
       "<IPython.core.display.Javascript object>"
      ]
     },
     "metadata": {},
     "output_type": "display_data"
    },
    {
     "data": {
      "text/markdown": [
       "<span style=\"color:#cc3333\">Incorrect:</span> You still need to define the following variables: `val_X`, `train_X`, `train_y`"
      ],
      "text/plain": [
       "Incorrect: You still need to define the following variables: `val_X`, `train_X`, `train_y`"
      ]
     },
     "metadata": {},
     "output_type": "display_data"
    }
   ],
   "source": [
    "# You imported DecisionTreeRegressor in your last exercise\n",
    "# and that code has been copied to the setup code above. So, no need to\n",
    "# import it again\n",
    "\n",
    "# Specify the model\n",
    "iowa_model = ____\n",
    "\n",
    "# Fit iowa_model with the training data.\n",
    "____\n",
    "\n",
    "# Check your answer\n",
    "step_2.check()"
   ]
  },
  {
   "cell_type": "code",
   "execution_count": 5,
   "id": "be7db832",
   "metadata": {
    "execution": {
     "iopub.execute_input": "2023-05-15T20:05:24.414382Z",
     "iopub.status.busy": "2023-05-15T20:05:24.413913Z",
     "iopub.status.idle": "2023-05-15T20:05:24.418889Z",
     "shell.execute_reply": "2023-05-15T20:05:24.417672Z"
    },
    "papermill": {
     "duration": 0.015705,
     "end_time": "2023-05-15T20:05:24.421201",
     "exception": false,
     "start_time": "2023-05-15T20:05:24.405496",
     "status": "completed"
    },
    "tags": []
   },
   "outputs": [],
   "source": [
    "# step_2.hint()\n",
    "# step_2.solution()"
   ]
  },
  {
   "cell_type": "markdown",
   "id": "c0c73752",
   "metadata": {
    "papermill": {
     "duration": 0.006422,
     "end_time": "2023-05-15T20:05:24.434575",
     "exception": false,
     "start_time": "2023-05-15T20:05:24.428153",
     "status": "completed"
    },
    "tags": []
   },
   "source": [
    "## Step 3: Make Predictions with Validation data\n"
   ]
  },
  {
   "cell_type": "code",
   "execution_count": 6,
   "id": "3bf25ce2",
   "metadata": {
    "execution": {
     "iopub.execute_input": "2023-05-15T20:05:24.450141Z",
     "iopub.status.busy": "2023-05-15T20:05:24.449710Z",
     "iopub.status.idle": "2023-05-15T20:05:24.460326Z",
     "shell.execute_reply": "2023-05-15T20:05:24.458825Z"
    },
    "papermill": {
     "duration": 0.021528,
     "end_time": "2023-05-15T20:05:24.462838",
     "exception": false,
     "start_time": "2023-05-15T20:05:24.441310",
     "status": "completed"
    },
    "tags": []
   },
   "outputs": [
    {
     "data": {
      "application/javascript": [
       "parent.postMessage({\"jupyterEvent\": \"custom.exercise_interaction\", \"data\": {\"outcomeType\": 2, \"failureMessage\": \"You still need to define the following variables: `val_X`\", \"interactionType\": 1, \"questionType\": 2, \"questionId\": \"3_ValPreds\", \"learnToolsVersion\": \"0.3.4\", \"valueTowardsCompletion\": 0.0, \"exceptionClass\": \"\", \"trace\": \"\"}}, \"*\")"
      ],
      "text/plain": [
       "<IPython.core.display.Javascript object>"
      ]
     },
     "metadata": {},
     "output_type": "display_data"
    },
    {
     "data": {
      "text/markdown": [
       "<span style=\"color:#cc3333\">Incorrect:</span> You still need to define the following variables: `val_X`"
      ],
      "text/plain": [
       "Incorrect: You still need to define the following variables: `val_X`"
      ]
     },
     "metadata": {},
     "output_type": "display_data"
    }
   ],
   "source": [
    "# Predict with all validation observations\n",
    "val_predictions = ____\n",
    "\n",
    "# Check your answer\n",
    "step_3.check()"
   ]
  },
  {
   "cell_type": "code",
   "execution_count": 7,
   "id": "ac889ad5",
   "metadata": {
    "execution": {
     "iopub.execute_input": "2023-05-15T20:05:24.479243Z",
     "iopub.status.busy": "2023-05-15T20:05:24.478795Z",
     "iopub.status.idle": "2023-05-15T20:05:24.484047Z",
     "shell.execute_reply": "2023-05-15T20:05:24.482685Z"
    },
    "papermill": {
     "duration": 0.016235,
     "end_time": "2023-05-15T20:05:24.486420",
     "exception": false,
     "start_time": "2023-05-15T20:05:24.470185",
     "status": "completed"
    },
    "tags": []
   },
   "outputs": [],
   "source": [
    "# step_3.hint()\n",
    "# step_3.solution()"
   ]
  },
  {
   "cell_type": "markdown",
   "id": "575a7925",
   "metadata": {
    "papermill": {
     "duration": 0.006991,
     "end_time": "2023-05-15T20:05:24.500738",
     "exception": false,
     "start_time": "2023-05-15T20:05:24.493747",
     "status": "completed"
    },
    "tags": []
   },
   "source": [
    "Inspect your predictions and actual values from validation data."
   ]
  },
  {
   "cell_type": "code",
   "execution_count": 8,
   "id": "a2b7291c",
   "metadata": {
    "execution": {
     "iopub.execute_input": "2023-05-15T20:05:24.517319Z",
     "iopub.status.busy": "2023-05-15T20:05:24.516852Z",
     "iopub.status.idle": "2023-05-15T20:05:24.523501Z",
     "shell.execute_reply": "2023-05-15T20:05:24.522105Z"
    },
    "papermill": {
     "duration": 0.018362,
     "end_time": "2023-05-15T20:05:24.526332",
     "exception": false,
     "start_time": "2023-05-15T20:05:24.507970",
     "status": "completed"
    },
    "tags": []
   },
   "outputs": [
    {
     "name": "stdout",
     "output_type": "stream",
     "text": [
      "<learntools.core.constants.PlaceholderValue object at 0x7cda260c6830>\n",
      "<learntools.core.constants.PlaceholderValue object at 0x7cda260c6830>\n"
     ]
    }
   ],
   "source": [
    "# print the top few validation predictions\n",
    "print(____)\n",
    "# print the top few actual prices from validation data\n",
    "print(____)"
   ]
  },
  {
   "cell_type": "markdown",
   "id": "8b3dbd74",
   "metadata": {
    "papermill": {
     "duration": 0.007376,
     "end_time": "2023-05-15T20:05:24.541327",
     "exception": false,
     "start_time": "2023-05-15T20:05:24.533951",
     "status": "completed"
    },
    "tags": []
   },
   "source": [
    "What do you notice that is different from what you saw with in-sample predictions (which are printed after the top code cell in this page).\n",
    "\n",
    "Do you remember why validation predictions differ from in-sample (or training) predictions? This is an important idea from the last lesson.\n",
    "\n",
    "## Step 4: Calculate the Mean Absolute Error in Validation Data\n"
   ]
  },
  {
   "cell_type": "code",
   "execution_count": 9,
   "id": "7747e03f",
   "metadata": {
    "execution": {
     "iopub.execute_input": "2023-05-15T20:05:24.558399Z",
     "iopub.status.busy": "2023-05-15T20:05:24.557906Z",
     "iopub.status.idle": "2023-05-15T20:05:24.569057Z",
     "shell.execute_reply": "2023-05-15T20:05:24.567591Z"
    },
    "papermill": {
     "duration": 0.022714,
     "end_time": "2023-05-15T20:05:24.571588",
     "exception": false,
     "start_time": "2023-05-15T20:05:24.548874",
     "status": "completed"
    },
    "tags": []
   },
   "outputs": [
    {
     "data": {
      "application/javascript": [
       "parent.postMessage({\"jupyterEvent\": \"custom.exercise_interaction\", \"data\": {\"outcomeType\": 4, \"interactionType\": 1, \"questionType\": 1, \"questionId\": \"4_MAE\", \"learnToolsVersion\": \"0.3.4\", \"valueTowardsCompletion\": 0.0, \"failureMessage\": \"\", \"exceptionClass\": \"\", \"trace\": \"\"}}, \"*\")"
      ],
      "text/plain": [
       "<IPython.core.display.Javascript object>"
      ]
     },
     "metadata": {},
     "output_type": "display_data"
    },
    {
     "data": {
      "text/markdown": [
       "<span style=\"color:#ccaa33\">Check:</span> When you've updated the starter code, `check()` will tell you whether your code is correct. You need to update the code that creates variable `val_mae`"
      ],
      "text/plain": [
       "Check: When you've updated the starter code, `check()` will tell you whether your code is correct. You need to update the code that creates variable `val_mae`"
      ]
     },
     "metadata": {},
     "output_type": "display_data"
    }
   ],
   "source": [
    "from sklearn.metrics import mean_absolute_error\n",
    "val_mae = ____\n",
    "\n",
    "# uncomment following line to see the validation_mae\n",
    "#print(val_mae)\n",
    "\n",
    "# Check your answer\n",
    "step_4.check()"
   ]
  },
  {
   "cell_type": "code",
   "execution_count": 10,
   "id": "9c91bb14",
   "metadata": {
    "execution": {
     "iopub.execute_input": "2023-05-15T20:05:24.590218Z",
     "iopub.status.busy": "2023-05-15T20:05:24.589115Z",
     "iopub.status.idle": "2023-05-15T20:05:24.594076Z",
     "shell.execute_reply": "2023-05-15T20:05:24.592770Z"
    },
    "papermill": {
     "duration": 0.016865,
     "end_time": "2023-05-15T20:05:24.596483",
     "exception": false,
     "start_time": "2023-05-15T20:05:24.579618",
     "status": "completed"
    },
    "tags": []
   },
   "outputs": [],
   "source": [
    "# step_4.hint()\n",
    "# step_4.solution()"
   ]
  },
  {
   "cell_type": "markdown",
   "id": "554aa4ae",
   "metadata": {
    "papermill": {
     "duration": 0.008543,
     "end_time": "2023-05-15T20:05:24.613522",
     "exception": false,
     "start_time": "2023-05-15T20:05:24.604979",
     "status": "completed"
    },
    "tags": []
   },
   "source": [
    "Is that MAE good?  There isn't a general rule for what values are good that applies across applications. But you'll see how to use (and improve) this number in the next step.\n",
    "\n",
    "# Keep Going\n",
    "\n",
    "You are ready for **[Underfitting and Overfitting](https://www.kaggle.com/dansbecker/underfitting-and-overfitting).**\n"
   ]
  },
  {
   "cell_type": "markdown",
   "id": "2a6b8d57",
   "metadata": {
    "papermill": {
     "duration": 0.008061,
     "end_time": "2023-05-15T20:05:24.630705",
     "exception": false,
     "start_time": "2023-05-15T20:05:24.622644",
     "status": "completed"
    },
    "tags": []
   },
   "source": [
    "---\n",
    "\n",
    "\n",
    "\n",
    "\n",
    "*Have questions or comments? Visit the [course discussion forum](https://www.kaggle.com/learn/intro-to-machine-learning/discussion) to chat with other learners.*"
   ]
  }
 ],
 "metadata": {
  "kernelspec": {
   "display_name": "Python 3",
   "language": "python",
   "name": "python3"
  },
  "language_info": {
   "codemirror_mode": {
    "name": "ipython",
    "version": 3
   },
   "file_extension": ".py",
   "mimetype": "text/x-python",
   "name": "python",
   "nbconvert_exporter": "python",
   "pygments_lexer": "ipython3",
   "version": "3.10.10"
  },
  "papermill": {
   "default_parameters": {},
   "duration": 17.957378,
   "end_time": "2023-05-15T20:05:25.763592",
   "environment_variables": {},
   "exception": null,
   "input_path": "__notebook__.ipynb",
   "output_path": "__notebook__.ipynb",
   "parameters": {},
   "start_time": "2023-05-15T20:05:07.806214",
   "version": "2.4.0"
  }
 },
 "nbformat": 4,
 "nbformat_minor": 5
}
